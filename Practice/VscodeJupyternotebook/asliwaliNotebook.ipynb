{
 "cells": [
  {
   "cell_type": "markdown",
   "metadata": {},
   "source": [
    "# Jupyter Notebook"
   ]
  },
  {
   "cell_type": "code",
   "execution_count": 2,
   "metadata": {},
   "outputs": [
    {
     "name": "stdout",
     "output_type": "stream",
     "text": [
      "python ka chilla with baba ammar\n"
     ]
    }
   ],
   "source": [
    "print(\"python ka chilla with baba ammar\")"
   ]
  },
  {
   "cell_type": "code",
   "execution_count": 4,
   "metadata": {},
   "outputs": [
    {
     "name": "stdout",
     "output_type": "stream",
     "text": [
      "[1, 2, 3, 4, 6, 12]\n"
     ]
    }
   ],
   "source": [
    "num = int(input(\"please choose a number to divide\"))\n",
    "\n",
    "listrange = list(range(1,num+1))\n",
    "\n",
    "divisorlist = []\n",
    "\n",
    "for number in listrange:\n",
    "    if num % number ==0:\n",
    "        divisorlist.append(number)\n",
    "\n",
    "print(divisorlist)"
   ]
  }
 ],
 "metadata": {
  "interpreter": {
   "hash": "f058976201eca8e822035faf6b30f696f3dbf4bd2c3772bfac10ce66ee99c55e"
  },
  "kernelspec": {
   "display_name": "Python 3.9.9 64-bit",
   "language": "python",
   "name": "python3"
  },
  "language_info": {
   "codemirror_mode": {
    "name": "ipython",
    "version": 3
   },
   "file_extension": ".py",
   "mimetype": "text/x-python",
   "name": "python",
   "nbconvert_exporter": "python",
   "pygments_lexer": "ipython3",
   "version": "3.9.9"
  },
  "orig_nbformat": 4
 },
 "nbformat": 4,
 "nbformat_minor": 2
}
