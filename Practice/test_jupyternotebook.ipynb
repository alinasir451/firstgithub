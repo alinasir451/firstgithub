{
 "cells": [
  {
   "cell_type": "markdown",
   "id": "5c19573e",
   "metadata": {},
   "source": [
    "# Pythone ka chilla\n",
    "\n",
    "## How to use jupyter notebook\n",
    "\n",
    "### Basic of python\n",
    "\n",
    "1- My first program"
   ]
  },
  {
   "cell_type": "code",
   "execution_count": 6,
   "id": "0bb486fe",
   "metadata": {},
   "outputs": [
    {
     "name": "stdout",
     "output_type": "stream",
     "text": [
      "hello world\n"
     ]
    }
   ],
   "source": [
    "print(\"hello world\")"
   ]
  },
  {
   "cell_type": "markdown",
   "id": "27640869",
   "metadata": {},
   "source": [
    "# **Input Variable Function**"
   ]
  },
  {
   "cell_type": "code",
   "execution_count": 7,
   "id": "623747b1",
   "metadata": {},
   "outputs": [
    {
     "name": "stdout",
     "output_type": "stream",
     "text": [
      "what is your name? ali\n",
      "how are you old? 28\n",
      "Hello! ali You are still young\n"
     ]
    }
   ],
   "source": [
    "name=input(\"what is your name? \")\n",
    "age=input(\"how are you old? \")\n",
    "greetings=\"Hello!\"\n",
    "print(greetings, name, \"You are still young\")"
   ]
  },
  {
   "cell_type": "markdown",
   "id": "5c536301",
   "metadata": {},
   "source": [
    "# **Logical Operators**"
   ]
  },
  {
   "cell_type": "code",
   "execution_count": 8,
   "id": "60fd2cb9",
   "metadata": {
    "scrolled": false
   },
   "outputs": [
    {
     "name": "stdout",
     "output_type": "stream",
     "text": [
      "how are you old? 5\n",
      "True\n",
      "5\n"
     ]
    }
   ],
   "source": [
    "# age_at_school=5\n",
    "# hammad_age=int(input(\"how are you old? \"))\n",
    "# print(age_at_school==hammad_age)\n",
    "# print(type(hammad_age))\n",
    "\n",
    "age_at_school=5\n",
    "hammad_age=input(\"how are you old? \")\n",
    "print(age_at_school==int(hammad_age))\n",
    "print(int(hammad_age))"
   ]
  },
  {
   "cell_type": "markdown",
   "id": "7673d101",
   "metadata": {},
   "source": [
    "*Markdown heading in italic with using star*"
   ]
  },
  {
   "cell_type": "code",
   "execution_count": null,
   "id": "fc3df162",
   "metadata": {},
   "outputs": [],
   "source": []
  }
 ],
 "metadata": {
  "kernelspec": {
   "display_name": "Python 3",
   "language": "python",
   "name": "python3"
  },
  "language_info": {
   "codemirror_mode": {
    "name": "ipython",
    "version": 3
   },
   "file_extension": ".py",
   "mimetype": "text/x-python",
   "name": "python",
   "nbconvert_exporter": "python",
   "pygments_lexer": "ipython3",
   "version": "3.8.8"
  }
 },
 "nbformat": 4,
 "nbformat_minor": 5
}
